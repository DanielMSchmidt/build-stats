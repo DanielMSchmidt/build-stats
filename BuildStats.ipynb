{
 "cells": [
  {
   "cell_type": "markdown",
   "metadata": {},
   "source": [
    "# Marathon Build Loops"
   ]
  },
  {
   "cell_type": "markdown",
   "metadata": {
    "raw_mimetype": "text/markdown"
   },
   "source": [
    "## Integration Tests"
   ]
  },
  {
   "cell_type": "code",
   "execution_count": null,
   "metadata": {},
   "outputs": [],
   "source": [
    "import logging\n",
    "import os\n",
    "from commons import JenkinsJob\n",
    "from IPython.display import HTML, display\n",
    "\n",
    "\n",
    "user, password = os.environ['AUTH'].split(\":\")\n",
    "\n",
    "jobs = [\"marathon-sandbox/job/marathon-loop-1.5\", \"marathon-sandbox/job/marathon-loop-1.6\",\n",
    "        \"marathon-sandbox/job/marathon-loop-1.7\", \"marathon-sandbox/job/marathon-loop-master\", ]\n",
    "\n",
    "for j in jobs:\n",
    "    job = JenkinsJob(\"jenkins.mesosphere.com/service/jenkins/view/Marathon/job\", j, user, password)\n",
    "\n",
    "    case_table = await job.unique_errors_table('html')\n",
    "    error_table = await job.names_table('html')\n",
    "\n",
    "    display(HTML('<h1>{}</h1>'.format(j)))\n",
    "    display(HTML(error_table))\n",
    "    display(HTML(case_table))"
   ]
  },
  {
   "cell_type": "markdown",
   "metadata": {},
   "source": [
    "## System Integration Tests"
   ]
  },
  {
   "cell_type": "code",
   "execution_count": null,
   "metadata": {},
   "outputs": [],
   "source": [
    "import os\n",
    "from commons import JenkinsJob\n",
    "from IPython.display import HTML, display\n",
    "\n",
    "\n",
    "user, password = os.environ['AUTH'].split(\":\")\n",
    "\n",
    "jobs = [\"system-integration-tests/job/marathon-si-dcos-open/job/master\",\n",
    "        \"system-integration-tests/job/marathon-si-dcos-permissive/job/master\",\n",
    "        \"system-integration-tests/job/marathon-si-dcos-strict/job/master\"]\n",
    "\n",
    "for j in jobs:\n",
    "    job = JenkinsJob(\"jenkins.mesosphere.com/service/jenkins/view/Marathon/job\", j, user, password)\n",
    "\n",
    "    case_table = await job.unique_errors_table('html')\n",
    "    error_table = await job.names_table('html')\n",
    "\n",
    "    display(HTML('<h1>{}</h1>'.format(j)))\n",
    "    display(HTML(error_table))\n",
    "    display(HTML(case_table))"
   ]
  },
  {
   "cell_type": "code",
   "execution_count": 2,
   "metadata": {
    "scrolled": true
   },
   "outputs": [
    {
     "data": {
      "application/vnd.jupyter.widget-view+json": {
       "model_id": "1e7463eda4af4a6fbb2df84f906f89b8",
       "version_major": 2,
       "version_minor": 0
      },
      "text/plain": [
       "Image(value=b'\\x89PNG\\r\\n\\x1a\\n\\x00\\x00\\x00\\rIHDR\\x00\\x00\\x01\\xc4\\x00\\x00\\x00\\xc1\\x08\\x06\\x00\\x00\\x00Q\\xe5\\xc0…"
      ]
     },
     "metadata": {},
     "output_type": "display_data"
    }
   ],
   "source": [
    "import ipywidgets as widgets\n",
    "import requests\n",
    "\n",
    "from ddog import build_graph\n",
    "from time import sleep\n",
    "\n",
    "graph = build_graph('master')\n",
    "sleep(5) # See http://andreafalzetti.github.io/blog/2017/04/17/datadog-png-snapshot-not-showing.html\n",
    "widgets.Image(value=requests.get(graph['snapshot_url']).content, format='png')"
   ]
  },
  {
   "cell_type": "code",
   "execution_count": null,
   "metadata": {},
   "outputs": [],
   "source": []
  }
 ],
 "metadata": {
  "celltoolbar": "Raw Cell Format",
  "kernelspec": {
   "display_name": "Python 3",
   "language": "python",
   "name": "python3"
  },
  "language_info": {
   "codemirror_mode": {
    "name": "ipython",
    "version": 3
   },
   "file_extension": ".py",
   "mimetype": "text/x-python",
   "name": "python",
   "nbconvert_exporter": "python",
   "pygments_lexer": "ipython3",
   "version": "3.6.4"
  }
 },
 "nbformat": 4,
 "nbformat_minor": 2
}
